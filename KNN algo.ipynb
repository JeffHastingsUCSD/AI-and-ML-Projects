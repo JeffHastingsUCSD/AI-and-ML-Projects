{
 "cells": [
  {
   "cell_type": "code",
   "execution_count": 3,
   "id": "2221a68b",
   "metadata": {},
   "outputs": [
    {
     "name": "stdout",
     "output_type": "stream",
     "text": [
      "Nearest neighbors: [(0.5385164807134505, array([2. , 2.5])), (0.7071067811865476, array([3. , 3.2])), (1.3453624047073711, array([1.5, 1.8]))]\n"
     ]
    }
   ],
   "source": [
    "import numpy as np\n",
    "\n",
    "# Define the number of neighbors to consider\n",
    "k = 3\n",
    "\n",
    "# Calculate the Euclidean distance between two points\n",
    "def calc_distance(x, mean):\n",
    "    distance = np.sqrt(np.sum((x - mean) ** 2))\n",
    "    return distance\n",
    "\n",
    "# Find the k-nearest neighbors\n",
    "def find_k_nearest_neighbors(training_data, test_point, k):\n",
    "    distances = []\n",
    "    for x in training_data:\n",
    "        distance = calc_distance(test_point, x)\n",
    "        distances.append((distance, x))\n",
    "    # Sort based on distance\n",
    "    distances.sort(key=lambda x: x[0])\n",
    "    # Get the k-nearest neighbors\n",
    "    nearest_neighbors = distances[:k]\n",
    "    return nearest_neighbors\n",
    "\n",
    "# Example usage\n",
    "training_data = np.array([\n",
    "    [1.0, 2.1],\n",
    "    [1.5, 1.8],\n",
    "    [2.0, 2.5],\n",
    "    [3.0, 3.2],\n",
    "    [4.0, 4.5]\n",
    "])\n",
    "\n",
    "test_point = np.array([2.5, 2.7])\n",
    "\n",
    "nearest_neighbors = find_k_nearest_neighbors(training_data, test_point, k)\n",
    "print(\"Nearest neighbors:\", nearest_neighbors)\n"
   ]
  },
  {
   "cell_type": "code",
   "execution_count": null,
   "id": "8c2b2c00",
   "metadata": {},
   "outputs": [],
   "source": []
  }
 ],
 "metadata": {
  "kernelspec": {
   "display_name": "Python 3 (ipykernel)",
   "language": "python",
   "name": "python3"
  },
  "language_info": {
   "codemirror_mode": {
    "name": "ipython",
    "version": 3
   },
   "file_extension": ".py",
   "mimetype": "text/x-python",
   "name": "python",
   "nbconvert_exporter": "python",
   "pygments_lexer": "ipython3",
   "version": "3.11.7"
  }
 },
 "nbformat": 4,
 "nbformat_minor": 5
}
